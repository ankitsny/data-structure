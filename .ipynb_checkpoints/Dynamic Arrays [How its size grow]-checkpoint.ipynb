{
 "cells": [
  {
   "cell_type": "code",
   "execution_count": 1,
   "metadata": {
    "collapsed": true
   },
   "outputs": [],
   "source": [
    "# Dynamic Array"
   ]
  },
  {
   "cell_type": "code",
   "execution_count": 7,
   "metadata": {},
   "outputs": [
    {
     "name": "stdout",
     "output_type": "stream",
     "text": [
      "Length:   0; Size in bytes:   64 \n",
      "Length:   1; Size in bytes:   96 \n",
      "Length:   2; Size in bytes:   96 \n",
      "Length:   3; Size in bytes:   96 \n",
      "Length:   4; Size in bytes:   96 \n",
      "Length:   5; Size in bytes:  128 \n",
      "Length:   6; Size in bytes:  128 \n",
      "Length:   7; Size in bytes:  128 \n",
      "Length:   8; Size in bytes:  128 \n",
      "Length:   9; Size in bytes:  192 \n",
      "Length:  10; Size in bytes:  192 \n",
      "Length:  11; Size in bytes:  192 \n",
      "Length:  12; Size in bytes:  192 \n",
      "Length:  13; Size in bytes:  192 \n",
      "Length:  14; Size in bytes:  192 \n",
      "Length:  15; Size in bytes:  192 \n",
      "Length:  16; Size in bytes:  192 \n",
      "Length:  17; Size in bytes:  264 \n",
      "Length:  18; Size in bytes:  264 \n",
      "Length:  19; Size in bytes:  264 \n"
     ]
    }
   ],
   "source": [
    "import sys\n",
    "\n",
    "# Set n =10\n",
    "n = 10\n",
    "\n",
    "# Initialize one empty array \n",
    "data = []\n",
    "\n",
    "for i in range(n):\n",
    "    \n",
    "    # Number of element\n",
    "    a = len(data)\n",
    "    \n",
    "    # Actual size in bytes\n",
    "    b = sys.getsizeof(data)\n",
    "    \n",
    "    print ('Length: {0:3d}; Size in bytes: {1:4d} '.format(a, b))\n",
    "    \n",
    "    # Increase the data length by one\n",
    "    data.append(i)\n",
    "    "
   ]
  },
  {
   "cell_type": "code",
   "execution_count": null,
   "metadata": {
    "collapsed": true
   },
   "outputs": [],
   "source": []
  },
  {
   "cell_type": "code",
   "execution_count": null,
   "metadata": {
    "collapsed": true
   },
   "outputs": [],
   "source": []
  },
  {
   "cell_type": "code",
   "execution_count": null,
   "metadata": {
    "collapsed": true
   },
   "outputs": [],
   "source": []
  },
  {
   "cell_type": "code",
   "execution_count": null,
   "metadata": {
    "collapsed": true
   },
   "outputs": [],
   "source": []
  },
  {
   "cell_type": "code",
   "execution_count": null,
   "metadata": {
    "collapsed": true
   },
   "outputs": [],
   "source": []
  }
 ],
 "metadata": {
  "kernelspec": {
   "display_name": "Python 3",
   "language": "python",
   "name": "python3"
  },
  "language_info": {
   "codemirror_mode": {
    "name": "ipython",
    "version": 3
   },
   "file_extension": ".py",
   "mimetype": "text/x-python",
   "name": "python",
   "nbconvert_exporter": "python",
   "pygments_lexer": "ipython3",
   "version": "3.6.1"
  }
 },
 "nbformat": 4,
 "nbformat_minor": 2
}
