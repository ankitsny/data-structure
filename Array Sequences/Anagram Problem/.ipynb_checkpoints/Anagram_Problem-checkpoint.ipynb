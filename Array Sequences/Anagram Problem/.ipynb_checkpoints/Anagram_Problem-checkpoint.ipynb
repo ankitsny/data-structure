{
 "cells": [
  {
   "cell_type": "code",
   "execution_count": 12,
   "metadata": {},
   "outputs": [],
   "source": [
    "def anagram1(s1, s2):\n",
    "    # Remove all white spaces\n",
    "    # Also change it to lower case\n",
    "    s1 = s1.replace(\" \", \"\").lower()\n",
    "    s2 = s2.replace(\" \", \"\").lower()\n",
    "    \n",
    "    # Check if the length is equal\n",
    "    if len(s1) != len(s2):\n",
    "        return False\n",
    "    \n",
    "    # if sorted strings are equal then Anagram true\n",
    "    return sorted(s1) == sorted(s2)"
   ]
  },
  {
   "cell_type": "code",
   "execution_count": 13,
   "metadata": {},
   "outputs": [],
   "source": [
    "def anagram2(s1, s2):\n",
    "    # Remove all white spaces\n",
    "    # to lower case\n",
    "    s1 = s1.replace(\" \", \"\").lower()\n",
    "    s2 = s2.replace(\" \", \"\").lower()\n",
    "    \n",
    "    # Create map of chars occurance or find the frequency\n",
    "    count = {}\n",
    "    \n",
    "    # Count frequency from the string1   \n",
    "    for ch in s1:\n",
    "        if ch in count:\n",
    "            count[ch] += 1\n",
    "        else:\n",
    "            count[ch] = 1\n",
    "            \n",
    "    # Substract the counts using string2\n",
    "    # if the frequency of all element is Zero then Anagram True\n",
    "    \n",
    "    for ch in s2:\n",
    "        if ch in count:\n",
    "            count[ch] -= 1\n",
    "        else:\n",
    "            count[ch] = 1\n",
    "\n",
    "    for c in count:\n",
    "        if count[c] != 0:\n",
    "            return False\n",
    "    return True\n",
    "    "
   ]
  },
  {
   "cell_type": "code",
   "execution_count": 11,
   "metadata": {},
   "outputs": [
    {
     "name": "stdout",
     "output_type": "stream",
     "text": [
      "True\n"
     ]
    }
   ],
   "source": [
    "print(anagram1(\"dog\", \"g d o\"))"
   ]
  }
 ],
 "metadata": {
  "kernelspec": {
   "display_name": "Python 3",
   "language": "python",
   "name": "python3"
  },
  "language_info": {
   "codemirror_mode": {
    "name": "ipython",
    "version": 3
   },
   "file_extension": ".py",
   "mimetype": "text/x-python",
   "name": "python",
   "nbconvert_exporter": "python",
   "pygments_lexer": "ipython3",
   "version": "3.5.2"
  }
 },
 "nbformat": 4,
 "nbformat_minor": 2
}
