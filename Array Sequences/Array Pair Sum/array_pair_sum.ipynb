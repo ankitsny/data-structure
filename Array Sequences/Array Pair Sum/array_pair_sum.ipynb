{
 "cells": [
  {
   "cell_type": "markdown",
   "metadata": {},
   "source": [
    "# Array Pair Sum\n"
   ]
  },
  {
   "cell_type": "code",
   "execution_count": 44,
   "metadata": {},
   "outputs": [],
   "source": [
    "def array_pair_sum(items, sum):\n",
    "    \n",
    "    # Check if the length is less than 2\n",
    "    if len(items) < 2:\n",
    "        return 0\n",
    "    \n",
    "    # Tracking of seen elemets\n",
    "    seen = set()\n",
    "    \n",
    "    # Output\n",
    "    output = set()\n",
    "    \n",
    "    # Loop through all elements\n",
    "    for i in items:\n",
    "        print(\"FOR ITEM \" + str(i))\n",
    "        print(\"\\tSEEN: \" + \"\".join(map(str, seen)))\n",
    "        remaining = sum - i\n",
    "        print(\"\\tREMAINING: \" + str(remaining))\n",
    "        if remaining in seen:\n",
    "            print(\"\\tFOUND IN SEEN: \" + str(remaining))\n",
    "            print(\"\\tFOUND PAIR SUM: \" + str(i) + \",\" +str(remaining))\n",
    "            output.add((min(i, remaining), max(i, remaining)))\n",
    "        else:\n",
    "            print(\"\\tNOT FOUND IN SEEN: \"+ str(remaining))\n",
    "            print(\"\\tADD \" + str(remaining) + \" IN SEEN\")\n",
    "            seen.add(i)\n",
    "    print(\"\\n\\t\".join(map(str, output)))\n",
    "    \n",
    "    return len(output)\n",
    "            \n",
    "        \n",
    "    "
   ]
  },
  {
   "cell_type": "markdown",
   "metadata": {},
   "source": [
    "> Time Complexity `O(n)`"
   ]
  },
  {
   "cell_type": "code",
   "execution_count": 45,
   "metadata": {
    "scrolled": false
   },
   "outputs": [
    {
     "name": "stdout",
     "output_type": "stream",
     "text": [
      "FOR ITEM 1\n",
      "\tSEEN: \n",
      "\tREMAINING: 3\n",
      "\tNOT FOUND IN SEEN: 3\n",
      "\tADD 3 IN SEEN\n",
      "FOR ITEM 3\n",
      "\tSEEN: 1\n",
      "\tREMAINING: 1\n",
      "\tFOUND IN SEEN: 1\n",
      "\tFOUND PAIR SUM: 3,1\n",
      "FOR ITEM 2\n",
      "\tSEEN: 1\n",
      "\tREMAINING: 2\n",
      "\tNOT FOUND IN SEEN: 2\n",
      "\tADD 2 IN SEEN\n",
      "FOR ITEM 5\n",
      "\tSEEN: 12\n",
      "\tREMAINING: -1\n",
      "\tNOT FOUND IN SEEN: -1\n",
      "\tADD -1 IN SEEN\n",
      "FOR ITEM -1\n",
      "\tSEEN: 125\n",
      "\tREMAINING: 5\n",
      "\tFOUND IN SEEN: 5\n",
      "\tFOUND PAIR SUM: -1,5\n",
      "(1, 3)\n",
      "\t(-1, 5)\n"
     ]
    },
    {
     "data": {
      "text/plain": [
       "2"
      ]
     },
     "execution_count": 45,
     "metadata": {},
     "output_type": "execute_result"
    }
   ],
   "source": [
    "array_pair_sum([1,3,2,5,-1], 4)"
   ]
  }
 ],
 "metadata": {
  "kernelspec": {
   "display_name": "Python 3",
   "language": "python",
   "name": "python3"
  },
  "language_info": {
   "codemirror_mode": {
    "name": "ipython",
    "version": 3
   },
   "file_extension": ".py",
   "mimetype": "text/x-python",
   "name": "python",
   "nbconvert_exporter": "python",
   "pygments_lexer": "ipython3",
   "version": "3.5.2"
  }
 },
 "nbformat": 4,
 "nbformat_minor": 2
}
