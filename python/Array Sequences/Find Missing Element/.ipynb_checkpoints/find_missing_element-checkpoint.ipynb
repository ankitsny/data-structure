{
 "cells": [
  {
   "cell_type": "markdown",
   "metadata": {},
   "source": [
    "# Find Missing Element from the two array\n",
    "\n",
    "```python\n",
    "    arr1 = [1,2,3,4,5,6]\n",
    "    arr2 = [2,1,4,3,6]\n",
    "    # So 5 is missing here\n",
    "```"
   ]
  },
  {
   "cell_type": "code",
   "execution_count": 19,
   "metadata": {},
   "outputs": [],
   "source": [
    "def finder(l1, l2):\n",
    "    # Create Hash map to count the frequency\n",
    "    count = {}\n",
    "    \n",
    "    # Loop through l1\n",
    "    for i in l1:\n",
    "        if i in count:\n",
    "            count[i] += 1\n",
    "        else:\n",
    "            count[i] = 1\n",
    "    \n",
    "    # Loop through l2 and decrease the counts of each elements\n",
    "    for i in l2:\n",
    "        if i in count:\n",
    "            count[i] -= 1\n",
    "        else:\n",
    "            count[i] = 1\n",
    "    \n",
    "    # Loop through the count hashmap and check the frequency\n",
    "    # If frequency of any element is greatere than 0 then that element is missing\n",
    "    for i in count:\n",
    "        if count[i] != 0:\n",
    "            return i\n",
    "    return \"Nothing is missing\"\n",
    "    "
   ]
  },
  {
   "cell_type": "code",
   "execution_count": 20,
   "metadata": {},
   "outputs": [
    {
     "name": "stdout",
     "output_type": "stream",
     "text": [
      "{1: 1, 2: 1, 3: 1, 4: 1, 6: 1}\n",
      "{1: 0, 2: 0, 3: 0, 4: 0, 5: 1, 6: 0}\n"
     ]
    },
    {
     "data": {
      "text/plain": [
       "5"
      ]
     },
     "execution_count": 20,
     "metadata": {},
     "output_type": "execute_result"
    }
   ],
   "source": [
    "finder([1,2,3,4,6], [2,1,4,3,6,5])"
   ]
  },
  {
   "cell_type": "code",
   "execution_count": 4,
   "metadata": {},
   "outputs": [
    {
     "name": "stdout",
     "output_type": "stream",
     "text": [
      "Testing\n"
     ]
    }
   ],
   "source": [
    "\"\"\"\n",
    "TEST\n",
    "\"\"\"\n",
    "\n",
    "\"\"\"\n",
    "Testing on jupyter notebook using nose\n",
    "\"\"\"\n",
    "\"\"\"\n",
    "from nose.tools import assert_equal\n",
    "\n",
    "class TestFinder(object):\n",
    "    def test(self, sol):\n",
    "        assert_equal(sol([5,5,7,7], [5,7,7]), 5)\n",
    "        assert_equal(sol([1,2,3,4,5,6,7], [3,7,2,1,4,6]), 5)\n",
    "        assert_equal(sol([9,8,7,6,5,4,3,2,1], [9,8,7,5,4,3,2,1]), 6)\n",
    "        print(\"TEST PASSED\")\n",
    "\n",
    "# Run Test\n",
    "r = TestFinder()\n",
    "t.test(finder)\n",
    "\n",
    "\"\"\"\n",
    "\n",
    "\n",
    "\n",
    "\"\"\"\n",
    "Testing using unittest\n",
    "\"\"\"\n",
    "\n",
    "\"\"\"\n",
    "import unittest\n",
    "\n",
    "class TestFFindMethod(unittest.TestCase):\n",
    "\n",
    "    def test_finder(self):\n",
    "        self.assertEqual(finder([5,5,7,7], [5,7,7]), 5)\n",
    "        self.assertEqual(finder([1,2,3,4,5,6,7], [3,7,2,1,4,6]), 5)\n",
    "        self.assertEqual(finder([9,8,7,6,5,4,3,2,1], [9,8,7,5,4,3,2,1]), 6)\n",
    "\n",
    "\n",
    "if __name__ == '__main__':\n",
    "    unittest.main()\n",
    "\"\"\"   \n",
    "print(\"Testing\")"
   ]
  },
  {
   "cell_type": "code",
   "execution_count": null,
   "metadata": {},
   "outputs": [],
   "source": []
  }
 ],
 "metadata": {
  "kernelspec": {
   "display_name": "Python 3",
   "language": "python",
   "name": "python3"
  },
  "language_info": {
   "codemirror_mode": {
    "name": "ipython",
    "version": 3
   },
   "file_extension": ".py",
   "mimetype": "text/x-python",
   "name": "python",
   "nbconvert_exporter": "python",
   "pygments_lexer": "ipython3",
   "version": "3.5.2"
  }
 },
 "nbformat": 4,
 "nbformat_minor": 2
}
