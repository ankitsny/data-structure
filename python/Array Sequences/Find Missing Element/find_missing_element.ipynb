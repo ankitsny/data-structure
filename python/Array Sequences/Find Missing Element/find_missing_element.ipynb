{
 "cells": [
  {
   "cell_type": "markdown",
   "metadata": {},
   "source": [
    "# Find Missing Element from the two array\n",
    "\n",
    "```python\n",
    "    arr1 = [1,2,3,4,5,6]\n",
    "    arr2 = [2,1,4,3,6]\n",
    "    # So 5 is missing here\n",
    "```"
   ]
  },
  {
   "cell_type": "markdown",
   "metadata": {},
   "source": [
    "> Time Complexity `O(n)`"
   ]
  },
  {
   "cell_type": "code",
   "execution_count": 5,
   "metadata": {},
   "outputs": [],
   "source": [
    "def finder(l1, l2):\n",
    "    # Create Hash map to count the frequency\n",
    "    count = {}\n",
    "    \n",
    "    # Loop through l1\n",
    "    for i in l1:\n",
    "        if i in count:\n",
    "            count[i] += 1\n",
    "        else:\n",
    "            count[i] = 1\n",
    "    \n",
    "    # Loop through l2 and decrease the counts of each elements\n",
    "    for i in l2:\n",
    "        if i in count:\n",
    "            count[i] -= 1\n",
    "        else:\n",
    "            count[i] = 1\n",
    "    \n",
    "    # Loop through the count hashmap and check the frequency\n",
    "    # If frequency of any element is greatere than 0 then that element is missing\n",
    "    for i in count:\n",
    "        if count[i] != 0:\n",
    "            return i\n",
    "    return \"Nothing is missing\"\n",
    "    "
   ]
  },
  {
   "cell_type": "code",
   "execution_count": 9,
   "metadata": {},
   "outputs": [
    {
     "data": {
      "text/plain": [
       "5"
      ]
     },
     "execution_count": 9,
     "metadata": {},
     "output_type": "execute_result"
    }
   ],
   "source": [
    "finder([1,2,3,4,5,6], [2,1,4,3,6])"
   ]
  },
  {
   "cell_type": "markdown",
   "metadata": {},
   "source": [
    "## Testing Using nose"
   ]
  },
  {
   "cell_type": "code",
   "execution_count": 11,
   "metadata": {},
   "outputs": [
    {
     "name": "stdout",
     "output_type": "stream",
     "text": [
      "\n"
     ]
    }
   ],
   "source": [
    "\"\"\"\n",
    "Testing on jupyter notebook using nose\n",
    "\"\"\"\n",
    "\"\"\"\n",
    "from nose.tools import assert_equal\n",
    "\n",
    "class TestFinder(object):\n",
    "    def test(self, sol):\n",
    "        assert_equal(sol([5,5,7,7], [5,7,7]), 5)\n",
    "        assert_equal(sol([1,2,3,4,5,6,7], [3,7,2,1,4,6]), 5)\n",
    "        assert_equal(sol([9,8,7,6,5,4,3,2,1], [9,8,7,5,4,3,2,1]), 6)\n",
    "        print(\"TEST PASSED\")\n",
    "\n",
    "# Run Test\n",
    "r = TestFinder()\n",
    "t.test(finder)\n",
    "\n",
    "\"\"\"\n",
    "print(\"\")"
   ]
  },
  {
   "cell_type": "markdown",
   "metadata": {},
   "source": [
    "## Testing using unitest"
   ]
  },
  {
   "cell_type": "code",
   "execution_count": 12,
   "metadata": {},
   "outputs": [
    {
     "name": "stdout",
     "output_type": "stream",
     "text": [
      "\n"
     ]
    }
   ],
   "source": [
    "\"\"\"\n",
    "import unittest\n",
    "\n",
    "class TestFFindMethod(unittest.TestCase):\n",
    "\n",
    "    def test_finder(self):\n",
    "        self.assertEqual(finder([5,5,7,7], [5,7,7]), 5)\n",
    "        self.assertEqual(finder([1,2,3,4,5,6,7], [3,7,2,1,4,6]), 5)\n",
    "        self.assertEqual(finder([9,8,7,6,5,4,3,2,1], [9,8,7,5,4,3,2,1]), 6)\n",
    "\n",
    "\n",
    "if __name__ == '__main__':\n",
    "    unittest.main()\n",
    "\"\"\"   \n",
    "print(\"\")"
   ]
  }
 ],
 "metadata": {
  "kernelspec": {
   "display_name": "Python 3",
   "language": "python",
   "name": "python3"
  },
  "language_info": {
   "codemirror_mode": {
    "name": "ipython",
    "version": 3
   },
   "file_extension": ".py",
   "mimetype": "text/x-python",
   "name": "python",
   "nbconvert_exporter": "python",
   "pygments_lexer": "ipython3",
   "version": "3.5.2"
  }
 },
 "nbformat": 4,
 "nbformat_minor": 2
}
